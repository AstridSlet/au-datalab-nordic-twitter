{
 "cells": [
  {
   "cell_type": "code",
   "execution_count": 8,
   "id": "f501587a-afc3-461b-90c7-84fd690f96a5",
   "metadata": {
    "execution": {
     "iopub.execute_input": "2022-06-23T13:09:00.825972Z",
     "iopub.status.busy": "2022-06-23T13:09:00.825427Z",
     "iopub.status.idle": "2022-06-23T13:09:01.057458Z",
     "shell.execute_reply": "2022-06-23T13:09:01.056854Z",
     "shell.execute_reply.started": "2022-06-23T13:09:00.825923Z"
    },
    "tags": []
   },
   "outputs": [],
   "source": [
    "import pandas as pd\n",
    "import json\n",
    "import os\n",
    "import numpy as np"
   ]
  },
  {
   "cell_type": "code",
   "execution_count": 9,
   "id": "b2d304c4-0874-4371-b57f-74e2221025ee",
   "metadata": {
    "execution": {
     "iopub.execute_input": "2022-06-23T13:09:01.111173Z",
     "iopub.status.busy": "2022-06-23T13:09:01.110652Z",
     "iopub.status.idle": "2022-06-23T13:09:01.119378Z",
     "shell.execute_reply": "2022-06-23T13:09:01.118359Z",
     "shell.execute_reply.started": "2022-06-23T13:09:01.111127Z"
    }
   },
   "outputs": [],
   "source": [
    "def getListOfFiles(dirName):\n",
    "    listOfFile = os.listdir(dirName)\n",
    "    allFiles = list()\n",
    "    for entry in listOfFile:\n",
    "        fullPath = os.path.join(dirName, entry)\n",
    "        if os.path.isdir(fullPath):\n",
    "            allFiles = allFiles + getListOfFiles(fullPath)\n",
    "        else:\n",
    "            allFiles.append(fullPath)    \n",
    "    return allFiles"
   ]
  },
  {
   "cell_type": "code",
   "execution_count": 28,
   "id": "9d4dd690-88c2-48a1-ba67-b3c4322d5514",
   "metadata": {
    "execution": {
     "iopub.execute_input": "2022-06-23T13:21:42.841824Z",
     "iopub.status.busy": "2022-06-23T13:21:42.841261Z",
     "iopub.status.idle": "2022-06-23T13:21:43.791116Z",
     "shell.execute_reply": "2022-06-23T13:21:43.790213Z",
     "shell.execute_reply.started": "2022-06-23T13:21:42.841770Z"
    },
    "tags": []
   },
   "outputs": [],
   "source": [
    "# load norwegian file to see which cols it has \n",
    "preprocessedFile = \"/work/76568/preprocessed/no/td_20200804_no_tlpdn_sc.ndjson\"\n",
    "\n",
    "tweets2 = []\n",
    "\n",
    "for line in open(preprocessedFile, 'r'):\n",
    "        try:\n",
    "            tweets2.append(json.loads(line))\n",
    "        except:\n",
    "            pass\n",
    "dataPrepro = pd.DataFrame(tweets2)"
   ]
  },
  {
   "cell_type": "code",
   "execution_count": 11,
   "id": "11be3ffa-d83d-430c-be45-7366caf5dd74",
   "metadata": {
    "execution": {
     "iopub.execute_input": "2022-06-23T13:09:05.931383Z",
     "iopub.status.busy": "2022-06-23T13:09:05.930719Z",
     "iopub.status.idle": "2022-06-23T13:09:06.081076Z",
     "shell.execute_reply": "2022-06-23T13:09:06.080329Z",
     "shell.execute_reply.started": "2022-06-23T13:09:05.931333Z"
    },
    "tags": []
   },
   "outputs": [],
   "source": [
    "# load small finnish file to check it \n",
    "dirName = '/work/76568/data_trial/'\n",
    "listOfFiles = getListOfFiles(dirName) \n",
    "tweets = []\n",
    "\n",
    "for file in listOfFiles:\n",
    "    #tweets = []\n",
    "    for line in open(file, 'r'):\n",
    "        try:\n",
    "            tweets.append(json.loads(line))\n",
    "        except:\n",
    "            pass\n",
    "data = pd.DataFrame(tweets)"
   ]
  },
  {
   "cell_type": "code",
   "execution_count": 29,
   "id": "0bc10b6a-0780-454f-b755-70af53063d29",
   "metadata": {
    "execution": {
     "iopub.execute_input": "2022-06-23T13:21:45.445174Z",
     "iopub.status.busy": "2022-06-23T13:21:45.445023Z",
     "iopub.status.idle": "2022-06-23T13:21:45.448935Z",
     "shell.execute_reply": "2022-06-23T13:21:45.448413Z",
     "shell.execute_reply.started": "2022-06-23T13:21:45.445158Z"
    },
    "tags": []
   },
   "outputs": [],
   "source": [
    "cols1 = dataPrepro.columns\n",
    "cols2 = data.columns\n",
    "index = cols2.isin(cols1)"
   ]
  },
  {
   "cell_type": "code",
   "execution_count": 33,
   "id": "85e3feaf-b74b-4730-9984-3d90506a7ffb",
   "metadata": {
    "execution": {
     "iopub.execute_input": "2022-06-23T13:26:09.358011Z",
     "iopub.status.busy": "2022-06-23T13:26:09.357477Z",
     "iopub.status.idle": "2022-06-23T13:26:09.367138Z",
     "shell.execute_reply": "2022-06-23T13:26:09.365879Z",
     "shell.execute_reply.started": "2022-06-23T13:26:09.357962Z"
    },
    "tags": []
   },
   "outputs": [
    {
     "data": {
      "text/plain": [
       "Index(['text', 'lang', 'created_at', 'id'], dtype='object')"
      ]
     },
     "execution_count": 33,
     "metadata": {},
     "output_type": "execute_result"
    }
   ],
   "source": [
    "cols2[index]"
   ]
  },
  {
   "cell_type": "code",
   "execution_count": 37,
   "id": "93276d86-cd67-4525-ba20-bf239af95797",
   "metadata": {
    "execution": {
     "iopub.execute_input": "2022-06-23T13:34:57.661221Z",
     "iopub.status.busy": "2022-06-23T13:34:57.660699Z",
     "iopub.status.idle": "2022-06-23T13:34:57.668059Z",
     "shell.execute_reply": "2022-06-23T13:34:57.667095Z",
     "shell.execute_reply.started": "2022-06-23T13:34:57.661163Z"
    }
   },
   "outputs": [],
   "source": [
    "colsToKeep = ['author_id', 'conversation_id', 'in_reply_to_user_id', 'text', 'lang', 'created_at', 'id']"
   ]
  },
  {
   "cell_type": "markdown",
   "id": "09321241-81e2-473b-b9b7-ebcba6a45876",
   "metadata": {},
   "source": [
    "# Splitting files by date"
   ]
  },
  {
   "cell_type": "code",
   "execution_count": 98,
   "id": "9f30c142-dd27-4074-8ee6-65bd19917a49",
   "metadata": {
    "execution": {
     "iopub.execute_input": "2022-06-23T13:59:32.323472Z",
     "iopub.status.busy": "2022-06-23T13:59:32.322948Z",
     "iopub.status.idle": "2022-06-23T13:59:32.596476Z",
     "shell.execute_reply": "2022-06-23T13:59:32.595866Z",
     "shell.execute_reply.started": "2022-06-23T13:59:32.323423Z"
    },
    "tags": []
   },
   "outputs": [],
   "source": [
    "# load small finnish file to check it \n",
    "dirName = '/work/76568/data_trial/'\n",
    "listOfFiles = getListOfFiles(dirName) \n",
    "tweets = []\n",
    "\n",
    "for file in listOfFiles:\n",
    "    #tweets = []\n",
    "    for line in open(file, 'r'):\n",
    "        try:\n",
    "            tweets.append(json.loads(line))\n",
    "        except:\n",
    "            pass\n",
    "#df = pd.DataFrame(tweets)"
   ]
  },
  {
   "cell_type": "code",
   "execution_count": 103,
   "id": "a5ac4cf8-dc8c-41bc-81cd-2385fbee65ce",
   "metadata": {
    "execution": {
     "iopub.execute_input": "2022-06-23T13:59:50.838425Z",
     "iopub.status.busy": "2022-06-23T13:59:50.837910Z",
     "iopub.status.idle": "2022-06-23T13:59:50.847469Z",
     "shell.execute_reply": "2022-06-23T13:59:50.846396Z",
     "shell.execute_reply.started": "2022-06-23T13:59:50.838377Z"
    },
    "tags": []
   },
   "outputs": [],
   "source": [
    "# keep only 7 cols of interest \n",
    "data = df.loc[:,colsToKeep]"
   ]
  },
  {
   "cell_type": "code",
   "execution_count": 104,
   "id": "ad965727-1b59-4c1a-8c20-a38599d71fe9",
   "metadata": {
    "execution": {
     "iopub.execute_input": "2022-06-23T13:59:52.464493Z",
     "iopub.status.busy": "2022-06-23T13:59:52.464336Z",
     "iopub.status.idle": "2022-06-23T13:59:52.469917Z",
     "shell.execute_reply": "2022-06-23T13:59:52.469384Z",
     "shell.execute_reply.started": "2022-06-23T13:59:52.464470Z"
    },
    "tags": []
   },
   "outputs": [],
   "source": [
    "data['date'] = pd.to_datetime(data['created_at'])"
   ]
  },
  {
   "cell_type": "code",
   "execution_count": 105,
   "id": "1d91378c-5f8a-4823-9995-302b4f52cbfe",
   "metadata": {
    "execution": {
     "iopub.execute_input": "2022-06-23T13:59:52.470663Z",
     "iopub.status.busy": "2022-06-23T13:59:52.470535Z",
     "iopub.status.idle": "2022-06-23T13:59:52.522298Z",
     "shell.execute_reply": "2022-06-23T13:59:52.521215Z",
     "shell.execute_reply.started": "2022-06-23T13:59:52.470649Z"
    },
    "tags": []
   },
   "outputs": [],
   "source": [
    "uniqueDates = data['date'].dt.date.unique()"
   ]
  },
  {
   "cell_type": "code",
   "execution_count": null,
   "id": "40d74e56-88e1-4de7-ba3e-2949e1bd322b",
   "metadata": {},
   "outputs": [],
   "source": [
    "for date in uniqueDates:\n",
    "    dateSub = data[data['date'].dt.strftime('%Y-%m-%d') == date]\n",
    "    dateSub.to_json(f\"{file}_{str(date)}\", orient=\"records\",lines=True)"
   ]
  },
  {
   "cell_type": "code",
   "execution_count": 106,
   "id": "2d4288ef-dac7-41e8-8ede-1793e2e93815",
   "metadata": {
    "execution": {
     "iopub.execute_input": "2022-06-23T13:59:52.525258Z",
     "iopub.status.busy": "2022-06-23T13:59:52.524964Z",
     "iopub.status.idle": "2022-06-23T13:59:52.933457Z",
     "shell.execute_reply": "2022-06-23T13:59:52.932874Z",
     "shell.execute_reply.started": "2022-06-23T13:59:52.525231Z"
    },
    "tags": []
   },
   "outputs": [],
   "source": [
    "df_filtered = data[data['date'].dt.strftime('%Y-%m-%d') == '2021-02-18']"
   ]
  },
  {
   "cell_type": "markdown",
   "id": "138fccb5-1b52-4dc1-a285-6a2c287306da",
   "metadata": {},
   "source": [
    "# Running it"
   ]
  },
  {
   "cell_type": "code",
   "execution_count": 131,
   "id": "84c8d596-eae7-4712-b232-5de42317146a",
   "metadata": {
    "execution": {
     "iopub.execute_input": "2022-06-23T14:19:33.275709Z",
     "iopub.status.busy": "2022-06-23T14:19:33.275155Z",
     "iopub.status.idle": "2022-06-23T14:19:33.690856Z",
     "shell.execute_reply": "2022-06-23T14:19:33.690005Z",
     "shell.execute_reply.started": "2022-06-23T14:19:33.275659Z"
    },
    "tags": []
   },
   "outputs": [],
   "source": [
    "# load small finnish file to check it \n",
    "dirName = '/work/76568/data_trial/'\n",
    "listOfFiles = getListOfFiles(dirName) \n",
    "\n",
    "colsToKeep = ['author_id', 'conversation_id', 'in_reply_to_user_id', 'text', 'lang', 'created_at', 'id']\n",
    "\n",
    "for file in listOfFiles:\n",
    "    tweets = []\n",
    "    for line in open(file, 'r'):\n",
    "        try:\n",
    "            tweets.append(json.loads(line))\n",
    "        except:\n",
    "            pass\n",
    "    df = pd.DataFrame(tweets)\n",
    "    \n",
    "    # keep only 7 cols of interest \n",
    "    df = df.loc[:,colsToKeep]\n",
    "    \n",
    "    # make datetime format \n",
    "    data['date'] = pd.to_datetime(data['created_at'])\n",
    "    \n",
    "    # get unique dates\n",
    "    uniqueDates = data['date'].dt.date.unique()\n",
    "    \n",
    "    # create file for unique dates\n",
    "    for date in uniqueDates:\n",
    "        dateSub = data[data['date'].dt.strftime('%Y-%m-%d') == date]\n",
    "        new_filename = os.path.join(\"/work/76568/preprocessed_trial/\", f\"{str(date)}_{str(os.path.split(file)[1])}\")\n",
    "        # check if file exists \n",
    "        if not os.path.exists(new_filename):\n",
    "            dateSub.to_json(new_filename, orient=\"records\",lines=True)\n",
    "        # if file already created add _b to the filename \n",
    "        else:\n",
    "            new_filename = os.path.join(\"/work/76568/preprocessed_trial/\", f\"{str(date)}_{str(os.path.split(file)[1])}_b\")\n",
    "            dateSub.to_json(new_filename, orient=\"records\",lines=True)"
   ]
  },
  {
   "cell_type": "code",
   "execution_count": null,
   "id": "9151c626-4e60-4f02-9643-a98ce1a13d75",
   "metadata": {},
   "outputs": [],
   "source": []
  }
 ],
 "metadata": {
  "kernelspec": {
   "display_name": "Python 3 ",
   "language": "python",
   "name": "python3"
  },
  "language_info": {
   "codemirror_mode": {
    "name": "ipython",
    "version": 3
   },
   "file_extension": ".py",
   "mimetype": "text/x-python",
   "name": "python",
   "nbconvert_exporter": "python",
   "pygments_lexer": "ipython3",
   "version": "3.9.6"
  }
 },
 "nbformat": 4,
 "nbformat_minor": 5
}
